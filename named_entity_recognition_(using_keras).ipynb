{
  "nbformat": 4,
  "nbformat_minor": 0,
  "metadata": {
    "kernelspec": {
      "language": "python",
      "display_name": "Python 3",
      "name": "python3"
    },
    "language_info": {
      "name": "python",
      "version": "3.7.10",
      "mimetype": "text/x-python",
      "codemirror_mode": {
        "name": "ipython",
        "version": 3
      },
      "pygments_lexer": "ipython3",
      "nbconvert_exporter": "python",
      "file_extension": ".py"
    },
    "colab": {
      "name": "named entity recognition (using keras).ipynb",
      "provenance": [],
      "collapsed_sections": []
    }
  },
  "cells": [
    {
      "cell_type": "code",
      "metadata": {
        "id": "Ml0p69OwwQmF",
        "trusted": true
      },
      "source": [
        "%cd drive/MyDrive/Colab Notebooks/Temp/NER"
      ],
      "execution_count": null,
      "outputs": []
    },
    {
      "cell_type": "code",
      "metadata": {
        "id": "OtUu9oFfzXDm"
      },
      "source": [
        "from google.colab import drive\n",
        "drive.mount('/content/drive')"
      ],
      "execution_count": null,
      "outputs": []
    },
    {
      "cell_type": "markdown",
      "metadata": {
        "id": "xfH5W8AbzXDt"
      },
      "source": [
        "## import necessary items"
      ]
    },
    {
      "cell_type": "code",
      "metadata": {
        "id": "x8T1PrTlxbMn",
        "execution": {
          "iopub.status.busy": "2021-09-09T06:34:01.633632Z",
          "iopub.execute_input": "2021-09-09T06:34:01.634014Z",
          "iopub.status.idle": "2021-09-09T06:34:01.639389Z",
          "shell.execute_reply.started": "2021-09-09T06:34:01.633976Z",
          "shell.execute_reply": "2021-09-09T06:34:01.637473Z"
        },
        "trusted": true
      },
      "source": [
        "import os \n",
        "import numpy as np\n",
        "import pandas as pd\n",
        "import random as rnd"
      ],
      "execution_count": null,
      "outputs": []
    },
    {
      "cell_type": "markdown",
      "metadata": {
        "id": "IgfqUhr7-rHx"
      },
      "source": [
        "## Loading and Preprocessing Dataset\n"
      ]
    },
    {
      "cell_type": "code",
      "metadata": {
        "id": "fA_Qz-Q4leA_",
        "execution": {
          "iopub.status.busy": "2021-09-09T06:34:04.478590Z",
          "iopub.execute_input": "2021-09-09T06:34:04.478925Z",
          "iopub.status.idle": "2021-09-09T06:34:05.008532Z",
          "shell.execute_reply.started": "2021-09-09T06:34:04.478895Z",
          "shell.execute_reply": "2021-09-09T06:34:05.007482Z"
        },
        "trusted": true,
        "outputId": "6a9c6075-8a5b-4d10-f371-ede62feb20cb"
      },
      "source": [
        "data = pd.read_csv('../input/ner-dataset/ner_datasetreference.csv', encoding= 'unicode_escape')\n",
        "data.head()"
      ],
      "execution_count": null,
      "outputs": [
        {
          "execution_count": 51,
          "output_type": "execute_result",
          "data": {
            "text/plain": "    Sentence #           Word  POS Tag\n0  Sentence: 1      Thousands  NNS   O\n1          NaN             of   IN   O\n2          NaN  demonstrators  NNS   O\n3          NaN           have  VBP   O\n4          NaN        marched  VBN   O",
            "text/html": "<div>\n<style scoped>\n    .dataframe tbody tr th:only-of-type {\n        vertical-align: middle;\n    }\n\n    .dataframe tbody tr th {\n        vertical-align: top;\n    }\n\n    .dataframe thead th {\n        text-align: right;\n    }\n</style>\n<table border=\"1\" class=\"dataframe\">\n  <thead>\n    <tr style=\"text-align: right;\">\n      <th></th>\n      <th>Sentence #</th>\n      <th>Word</th>\n      <th>POS</th>\n      <th>Tag</th>\n    </tr>\n  </thead>\n  <tbody>\n    <tr>\n      <th>0</th>\n      <td>Sentence: 1</td>\n      <td>Thousands</td>\n      <td>NNS</td>\n      <td>O</td>\n    </tr>\n    <tr>\n      <th>1</th>\n      <td>NaN</td>\n      <td>of</td>\n      <td>IN</td>\n      <td>O</td>\n    </tr>\n    <tr>\n      <th>2</th>\n      <td>NaN</td>\n      <td>demonstrators</td>\n      <td>NNS</td>\n      <td>O</td>\n    </tr>\n    <tr>\n      <th>3</th>\n      <td>NaN</td>\n      <td>have</td>\n      <td>VBP</td>\n      <td>O</td>\n    </tr>\n    <tr>\n      <th>4</th>\n      <td>NaN</td>\n      <td>marched</td>\n      <td>VBN</td>\n      <td>O</td>\n    </tr>\n  </tbody>\n</table>\n</div>"
          },
          "metadata": {}
        }
      ]
    },
    {
      "cell_type": "code",
      "metadata": {
        "id": "BWiTdF7kWwkx",
        "execution": {
          "iopub.status.busy": "2021-09-09T06:34:06.803576Z",
          "iopub.execute_input": "2021-09-09T06:34:06.803949Z",
          "iopub.status.idle": "2021-09-09T06:34:06.869992Z",
          "shell.execute_reply.started": "2021-09-09T06:34:06.803916Z",
          "shell.execute_reply": "2021-09-09T06:34:06.869162Z"
        },
        "trusted": true,
        "outputId": "40e2f5d5-1b03-41f7-a9a3-329f266784c3"
      },
      "source": [
        "data['Sentence #']=data['Sentence #'].ffill(axis = 0) \n",
        "data.head()"
      ],
      "execution_count": null,
      "outputs": [
        {
          "execution_count": 52,
          "output_type": "execute_result",
          "data": {
            "text/plain": "    Sentence #           Word  POS Tag\n0  Sentence: 1      Thousands  NNS   O\n1  Sentence: 1             of   IN   O\n2  Sentence: 1  demonstrators  NNS   O\n3  Sentence: 1           have  VBP   O\n4  Sentence: 1        marched  VBN   O",
            "text/html": "<div>\n<style scoped>\n    .dataframe tbody tr th:only-of-type {\n        vertical-align: middle;\n    }\n\n    .dataframe tbody tr th {\n        vertical-align: top;\n    }\n\n    .dataframe thead th {\n        text-align: right;\n    }\n</style>\n<table border=\"1\" class=\"dataframe\">\n  <thead>\n    <tr style=\"text-align: right;\">\n      <th></th>\n      <th>Sentence #</th>\n      <th>Word</th>\n      <th>POS</th>\n      <th>Tag</th>\n    </tr>\n  </thead>\n  <tbody>\n    <tr>\n      <th>0</th>\n      <td>Sentence: 1</td>\n      <td>Thousands</td>\n      <td>NNS</td>\n      <td>O</td>\n    </tr>\n    <tr>\n      <th>1</th>\n      <td>Sentence: 1</td>\n      <td>of</td>\n      <td>IN</td>\n      <td>O</td>\n    </tr>\n    <tr>\n      <th>2</th>\n      <td>Sentence: 1</td>\n      <td>demonstrators</td>\n      <td>NNS</td>\n      <td>O</td>\n    </tr>\n    <tr>\n      <th>3</th>\n      <td>Sentence: 1</td>\n      <td>have</td>\n      <td>VBP</td>\n      <td>O</td>\n    </tr>\n    <tr>\n      <th>4</th>\n      <td>Sentence: 1</td>\n      <td>marched</td>\n      <td>VBN</td>\n      <td>O</td>\n    </tr>\n  </tbody>\n</table>\n</div>"
          },
          "metadata": {}
        }
      ]
    },
    {
      "cell_type": "code",
      "metadata": {
        "id": "pjiUKSRfXSgU",
        "execution": {
          "iopub.status.busy": "2021-09-09T06:34:07.757090Z",
          "iopub.execute_input": "2021-09-09T06:34:07.757443Z",
          "iopub.status.idle": "2021-09-09T06:34:12.395448Z",
          "shell.execute_reply.started": "2021-09-09T06:34:07.757410Z",
          "shell.execute_reply": "2021-09-09T06:34:12.394662Z"
        },
        "trusted": true,
        "outputId": "8bb217a5-9c54-4fd4-eda8-54457e6a59fb"
      },
      "source": [
        "data_grouped = data.groupby([\"Sentence #\"])[['Word', 'POS', 'Tag']].agg(lambda x: list(x))\n",
        "data_grouped.head()"
      ],
      "execution_count": null,
      "outputs": [
        {
          "execution_count": 53,
          "output_type": "execute_result",
          "data": {
            "text/plain": "                                                              Word  \\\nSentence #                                                           \nSentence: 1      [Thousands, of, demonstrators, have, marched, ...   \nSentence: 10     [Iranian, officials, say, they, expect, to, ge...   \nSentence: 100    [Helicopter, gunships, Saturday, pounded, mili...   \nSentence: 1000   [They, left, after, a, tense, hour-long, stand...   \nSentence: 10000  [U.N., relief, coordinator, Jan, Egeland, said...   \n\n                                                               POS  \\\nSentence #                                                           \nSentence: 1      [NNS, IN, NNS, VBP, VBN, IN, NNP, TO, VB, DT, ...   \nSentence: 10     [JJ, NNS, VBP, PRP, VBP, TO, VB, NN, TO, JJ, J...   \nSentence: 100    [NN, NNS, NNP, VBD, JJ, NNS, IN, DT, NNP, JJ, ...   \nSentence: 1000      [PRP, VBD, IN, DT, NN, JJ, NN, IN, NN, NNS, .]   \nSentence: 10000  [NNP, NN, NN, NNP, NNP, VBD, NNP, ,, NNP, ,, J...   \n\n                                                               Tag  \nSentence #                                                          \nSentence: 1      [O, O, O, O, O, O, B-geo, O, O, O, O, O, B-geo...  \nSentence: 10     [B-gpe, O, O, O, O, O, O, O, O, O, O, O, O, O,...  \nSentence: 100    [O, O, B-tim, O, O, O, O, O, B-geo, O, O, O, O...  \nSentence: 1000                   [O, O, O, O, O, O, O, O, O, O, O]  \nSentence: 10000  [B-geo, O, O, B-per, I-per, O, B-tim, O, B-geo...  ",
            "text/html": "<div>\n<style scoped>\n    .dataframe tbody tr th:only-of-type {\n        vertical-align: middle;\n    }\n\n    .dataframe tbody tr th {\n        vertical-align: top;\n    }\n\n    .dataframe thead th {\n        text-align: right;\n    }\n</style>\n<table border=\"1\" class=\"dataframe\">\n  <thead>\n    <tr style=\"text-align: right;\">\n      <th></th>\n      <th>Word</th>\n      <th>POS</th>\n      <th>Tag</th>\n    </tr>\n    <tr>\n      <th>Sentence #</th>\n      <th></th>\n      <th></th>\n      <th></th>\n    </tr>\n  </thead>\n  <tbody>\n    <tr>\n      <th>Sentence: 1</th>\n      <td>[Thousands, of, demonstrators, have, marched, ...</td>\n      <td>[NNS, IN, NNS, VBP, VBN, IN, NNP, TO, VB, DT, ...</td>\n      <td>[O, O, O, O, O, O, B-geo, O, O, O, O, O, B-geo...</td>\n    </tr>\n    <tr>\n      <th>Sentence: 10</th>\n      <td>[Iranian, officials, say, they, expect, to, ge...</td>\n      <td>[JJ, NNS, VBP, PRP, VBP, TO, VB, NN, TO, JJ, J...</td>\n      <td>[B-gpe, O, O, O, O, O, O, O, O, O, O, O, O, O,...</td>\n    </tr>\n    <tr>\n      <th>Sentence: 100</th>\n      <td>[Helicopter, gunships, Saturday, pounded, mili...</td>\n      <td>[NN, NNS, NNP, VBD, JJ, NNS, IN, DT, NNP, JJ, ...</td>\n      <td>[O, O, B-tim, O, O, O, O, O, B-geo, O, O, O, O...</td>\n    </tr>\n    <tr>\n      <th>Sentence: 1000</th>\n      <td>[They, left, after, a, tense, hour-long, stand...</td>\n      <td>[PRP, VBD, IN, DT, NN, JJ, NN, IN, NN, NNS, .]</td>\n      <td>[O, O, O, O, O, O, O, O, O, O, O]</td>\n    </tr>\n    <tr>\n      <th>Sentence: 10000</th>\n      <td>[U.N., relief, coordinator, Jan, Egeland, said...</td>\n      <td>[NNP, NN, NN, NNP, NNP, VBD, NNP, ,, NNP, ,, J...</td>\n      <td>[B-geo, O, O, B-per, I-per, O, B-tim, O, B-geo...</td>\n    </tr>\n  </tbody>\n</table>\n</div>"
          },
          "metadata": {}
        }
      ]
    },
    {
      "cell_type": "code",
      "metadata": {
        "id": "dXpHcEKbY0gm",
        "execution": {
          "iopub.status.busy": "2021-09-09T06:34:12.396763Z",
          "iopub.execute_input": "2021-09-09T06:34:12.397079Z",
          "iopub.status.idle": "2021-09-09T06:34:12.404649Z",
          "shell.execute_reply.started": "2021-09-09T06:34:12.397051Z",
          "shell.execute_reply": "2021-09-09T06:34:12.403863Z"
        },
        "trusted": true
      },
      "source": [
        "sentences_list = data_grouped.Word.to_list()\n",
        "ner_tags_list = data_grouped.Tag.to_list()\n",
        "pos_tags_list = data_grouped.POS.to_list()"
      ],
      "execution_count": null,
      "outputs": []
    },
    {
      "cell_type": "code",
      "metadata": {
        "id": "hGxpzWLChC88",
        "execution": {
          "iopub.status.busy": "2021-09-09T06:34:16.032745Z",
          "iopub.execute_input": "2021-09-09T06:34:16.033103Z",
          "iopub.status.idle": "2021-09-09T06:34:16.178449Z",
          "shell.execute_reply.started": "2021-09-09T06:34:16.033073Z",
          "shell.execute_reply": "2021-09-09T06:34:16.177476Z"
        },
        "trusted": true,
        "outputId": "15d6769a-242d-4f91-a9b3-4587d5f6cf69"
      },
      "source": [
        "max_len = max([len(s) for s in sentences_list])\n",
        "print(\"Maximum length: \", max_len)\n",
        "\n",
        "words=list(set(data['Word'].values))\n",
        "words.sort()\n",
        "vocab={word: i for i,word in enumerate(words)}\n",
        "vocab[\"<PAD>\"] = len(vocab)\n",
        "vocab[\"<UNK>\"] = len(vocab)\n",
        "reverse_vocab = {v: k for k, v in vocab.items()}\n",
        "\n",
        "tags=list(set(data['Tag'].values))\n",
        "tags.sort()\n",
        "num_tags=len(tags)\n",
        "tags_map={tag:i for i,tag in enumerate(tags)}\n",
        "reverse_tag_map={v: k for k, v in tags_map.items()}"
      ],
      "execution_count": null,
      "outputs": [
        {
          "name": "stdout",
          "text": "Maximum length:  104\n",
          "output_type": "stream"
        }
      ]
    },
    {
      "cell_type": "code",
      "metadata": {
        "id": "o1x8-YHIgEJ_",
        "execution": {
          "iopub.status.busy": "2021-09-09T06:34:17.151832Z",
          "iopub.execute_input": "2021-09-09T06:34:17.152164Z",
          "iopub.status.idle": "2021-09-09T06:34:17.158569Z",
          "shell.execute_reply.started": "2021-09-09T06:34:17.152136Z",
          "shell.execute_reply": "2021-09-09T06:34:17.157291Z"
        },
        "trusted": true
      },
      "source": [
        "def preprocess(vocab, tag_map, sentences, labels):\n",
        "  sentences_int = []\n",
        "  labels_int = []\n",
        "\n",
        "  for sentence in sentences:\n",
        "      s = [vocab[token] if token in vocab \n",
        "            else vocab['<UNK>']\n",
        "            for token in sentence]\n",
        "      sentences_int.append(s)\n",
        "\n",
        "  for sentence in labels:\n",
        "      l = [tag_map[label] for label in sentence] \n",
        "      labels_int.append(l) \n",
        "  return sentences_int, labels_int, len(sentences)"
      ],
      "execution_count": null,
      "outputs": []
    },
    {
      "cell_type": "code",
      "metadata": {
        "id": "9sXs_gJuiIG1",
        "execution": {
          "iopub.status.busy": "2021-09-09T06:34:18.203302Z",
          "iopub.execute_input": "2021-09-09T06:34:18.203623Z",
          "iopub.status.idle": "2021-09-09T06:34:19.223136Z",
          "shell.execute_reply.started": "2021-09-09T06:34:18.203593Z",
          "shell.execute_reply": "2021-09-09T06:34:19.222237Z"
        },
        "trusted": true
      },
      "source": [
        "sentences_encoded, labels_encoded, data_length = preprocess(vocab, tags_map, sentences_list, ner_tags_list)"
      ],
      "execution_count": null,
      "outputs": []
    },
    {
      "cell_type": "code",
      "metadata": {
        "id": "tWsdOIMBbelW",
        "execution": {
          "iopub.status.busy": "2021-09-09T06:34:19.224612Z",
          "iopub.execute_input": "2021-09-09T06:34:19.224939Z",
          "iopub.status.idle": "2021-09-09T06:34:20.110273Z",
          "shell.execute_reply.started": "2021-09-09T06:34:19.224904Z",
          "shell.execute_reply": "2021-09-09T06:34:20.109375Z"
        },
        "trusted": true,
        "outputId": "96e99413-abbd-42b5-b4d9-70740f1ff32e"
      },
      "source": [
        "max_len=128\n",
        "from tensorflow.keras.preprocessing.sequence import pad_sequences\n",
        "from tensorflow.keras.utils import to_categorical\n",
        "\n",
        "padded_sentences = pad_sequences(maxlen=max_len, sequences=sentences_encoded, padding=\"post\", value=vocab[\"<PAD>\"])\n",
        "padded_tags = pad_sequences(maxlen=max_len, sequences=labels_encoded, padding=\"post\", value=tags_map['O'])\n",
        "\n",
        "print(\"Shape of padded sentences:\", padded_sentences.shape)\n",
        "print(\"Shape of padded labels:\", padded_tags.shape)"
      ],
      "execution_count": null,
      "outputs": [
        {
          "name": "stdout",
          "text": "Shape of padded sentences: (47959, 128)\nShape of padded labels: (47959, 128)\n",
          "output_type": "stream"
        }
      ]
    },
    {
      "cell_type": "code",
      "metadata": {
        "id": "YDMOx1gAbo-R",
        "execution": {
          "iopub.status.busy": "2021-09-09T06:34:20.627465Z",
          "iopub.execute_input": "2021-09-09T06:34:20.627870Z",
          "iopub.status.idle": "2021-09-09T06:34:21.267701Z",
          "shell.execute_reply.started": "2021-09-09T06:34:20.627824Z",
          "shell.execute_reply": "2021-09-09T06:34:21.266891Z"
        },
        "trusted": true
      },
      "source": [
        "labels = [to_categorical(i, num_classes = num_tags) for i in  padded_tags]"
      ],
      "execution_count": null,
      "outputs": []
    },
    {
      "cell_type": "markdown",
      "metadata": {
        "id": "RBuC8z_QzXFE"
      },
      "source": [
        "## Splitting data into train, validation and test sets"
      ]
    },
    {
      "cell_type": "code",
      "metadata": {
        "id": "GDNZKsWdbwDH",
        "execution": {
          "iopub.status.busy": "2021-09-09T06:34:21.908272Z",
          "iopub.execute_input": "2021-09-09T06:34:21.908637Z",
          "iopub.status.idle": "2021-09-09T06:34:22.145467Z",
          "shell.execute_reply.started": "2021-09-09T06:34:21.908607Z",
          "shell.execute_reply": "2021-09-09T06:34:22.144579Z"
        },
        "trusted": true,
        "outputId": "dd57a7ff-a12b-4dc1-e9fb-44bf015f1980"
      },
      "source": [
        "from sklearn.model_selection import train_test_split\n",
        "X_train, X_val_test, y_train, y_val_test = train_test_split(padded_sentences, labels, test_size = 0.3)\n",
        "X_val, X_test, y_val, y_test = train_test_split(X_val_test, y_val_test, test_size = 0.3)\n",
        "y_train = np.array(y_train)\n",
        "y_test = np.array(y_test)\n",
        "y_val = np.array(y_val)\n",
        "\n",
        "print(\"X_train shape: \", X_train.shape)\n",
        "print(\"y_train shape: \", y_train.shape)\n",
        "print(\"X_test shape: \", X_test.shape)\n",
        "print(\"y_test shape: \", y_test.shape)\n",
        "print(\"X_val shape: \", X_val.shape)\n",
        "print(\"y_val shape: \", y_val.shape)"
      ],
      "execution_count": null,
      "outputs": [
        {
          "name": "stdout",
          "text": "X_train shape:  (33571, 128)\ny_train shape:  (33571, 128, 17)\nX_test shape:  (4317, 128)\ny_test shape:  (4317, 128, 17)\nX_val shape:  (10071, 128)\ny_val shape:  (10071, 128, 17)\n",
          "output_type": "stream"
        }
      ]
    },
    {
      "cell_type": "markdown",
      "metadata": {
        "id": "6yBgHZ5szXFN"
      },
      "source": [
        "## Building Model"
      ]
    },
    {
      "cell_type": "code",
      "metadata": {
        "id": "rkKGFaxBcKDR",
        "execution": {
          "iopub.status.busy": "2021-09-09T06:34:25.152694Z",
          "iopub.execute_input": "2021-09-09T06:34:25.153048Z",
          "iopub.status.idle": "2021-09-09T06:34:25.158582Z",
          "shell.execute_reply.started": "2021-09-09T06:34:25.153009Z",
          "shell.execute_reply": "2021-09-09T06:34:25.157610Z"
        },
        "trusted": true
      },
      "source": [
        "from tensorflow.keras import Model, Input\n",
        "from tensorflow.keras.layers import LSTM, Embedding, Dense\n",
        "from tensorflow.keras.layers import TimeDistributed, SpatialDropout1D, Bidirectional\n",
        "from keras.layers.merge import add"
      ],
      "execution_count": null,
      "outputs": []
    },
    {
      "cell_type": "code",
      "metadata": {
        "id": "6f-M6ZSocMCP",
        "execution": {
          "iopub.status.busy": "2021-09-09T06:34:26.341087Z",
          "iopub.execute_input": "2021-09-09T06:34:26.341400Z",
          "iopub.status.idle": "2021-09-09T06:34:27.181246Z",
          "shell.execute_reply.started": "2021-09-09T06:34:26.341372Z",
          "shell.execute_reply": "2021-09-09T06:34:27.180368Z"
        },
        "trusted": true,
        "outputId": "af5da181-b1ee-49ae-810f-c1b7ea62b826"
      },
      "source": [
        "embedding_dim = 64\n",
        "vocab_size = len(vocab)\n",
        "max_len = 128\n",
        "\n",
        "input_layer = Input(shape = (max_len,))\n",
        "embedding = Embedding(input_dim = vocab_size, output_dim = embedding_dim, input_length = max_len)(input_layer)\n",
        "x = Bidirectional(LSTM(units=embedding_dim, return_sequences=True))(embedding)\n",
        "x = LSTM(units=embedding_dim, return_sequences=True)(x)\n",
        "x2 = LSTM(units=embedding_dim, return_sequences=True)(x)\n",
        "x = add([x, x2])  # residual connection to the first biLSTM\n",
        "output = TimeDistributed(Dense(num_tags, activation=\"softmax\"))(x)  #TimeDistributed layer applies Dense layer to each time stamp\n",
        "\n",
        "model = Model(input_layer, output)\n",
        "model.compile(optimizer=\"adam\", loss=\"categorical_crossentropy\", metrics=['mae', 'categorical_accuracy'])\n",
        "model.summary()"
      ],
      "execution_count": null,
      "outputs": [
        {
          "name": "stdout",
          "text": "Model: \"model_3\"\n__________________________________________________________________________________________________\nLayer (type)                    Output Shape         Param #     Connected to                     \n==================================================================================================\ninput_4 (InputLayer)            [(None, 128)]        0                                            \n__________________________________________________________________________________________________\nembedding_3 (Embedding)         (None, 128, 64)      2251520     input_4[0][0]                    \n__________________________________________________________________________________________________\nbidirectional_3 (Bidirectional) (None, 128, 128)     66048       embedding_3[0][0]                \n__________________________________________________________________________________________________\nlstm_10 (LSTM)                  (None, 128, 64)      49408       bidirectional_3[0][0]            \n__________________________________________________________________________________________________\nlstm_11 (LSTM)                  (None, 128, 64)      33024       lstm_10[0][0]                    \n__________________________________________________________________________________________________\nadd_3 (Add)                     (None, 128, 64)      0           lstm_10[0][0]                    \n                                                                 lstm_11[0][0]                    \n__________________________________________________________________________________________________\ntime_distributed_3 (TimeDistrib (None, 128, 17)      1105        add_3[0][0]                      \n==================================================================================================\nTotal params: 2,401,105\nTrainable params: 2,401,105\nNon-trainable params: 0\n__________________________________________________________________________________________________\n",
          "output_type": "stream"
        }
      ]
    },
    {
      "cell_type": "markdown",
      "metadata": {
        "id": "cjNTKBuhzXFW"
      },
      "source": [
        "## Training Model"
      ]
    },
    {
      "cell_type": "code",
      "metadata": {
        "id": "4Ohle-skcnQf",
        "execution": {
          "iopub.status.busy": "2021-09-09T06:34:30.852738Z",
          "iopub.execute_input": "2021-09-09T06:34:30.853109Z",
          "iopub.status.idle": "2021-09-09T06:38:33.500080Z",
          "shell.execute_reply.started": "2021-09-09T06:34:30.853079Z",
          "shell.execute_reply": "2021-09-09T06:38:33.499262Z"
        },
        "trusted": true,
        "outputId": "dd6a07ac-4733-4593-f646-e05b331a09ed"
      },
      "source": [
        "history = model.fit(X_train, y_train, validation_data=(X_val, y_val), batch_size = 64, epochs = 10)"
      ],
      "execution_count": null,
      "outputs": [
        {
          "name": "stdout",
          "text": "Epoch 1/10\n525/525 [==============================] - 30s 48ms/step - loss: 0.3255 - mae: 0.0141 - categorical_accuracy: 0.9618 - val_loss: 0.0565 - val_mae: 0.0028 - val_categorical_accuracy: 0.9814\nEpoch 2/10\n525/525 [==============================] - 24s 45ms/step - loss: 0.0500 - mae: 0.0026 - categorical_accuracy: 0.9834 - val_loss: 0.0379 - val_mae: 0.0021 - val_categorical_accuracy: 0.9895\nEpoch 3/10\n525/525 [==============================] - 23s 44ms/step - loss: 0.0294 - mae: 0.0017 - categorical_accuracy: 0.9916 - val_loss: 0.0268 - val_mae: 0.0014 - val_categorical_accuracy: 0.9924\nEpoch 4/10\n525/525 [==============================] - 24s 45ms/step - loss: 0.0190 - mae: 0.0011 - categorical_accuracy: 0.9947 - val_loss: 0.0238 - val_mae: 0.0012 - val_categorical_accuracy: 0.9932\nEpoch 5/10\n525/525 [==============================] - 24s 46ms/step - loss: 0.0149 - mae: 8.2915e-04 - categorical_accuracy: 0.9958 - val_loss: 0.0227 - val_mae: 0.0011 - val_categorical_accuracy: 0.9935\nEpoch 6/10\n525/525 [==============================] - 23s 45ms/step - loss: 0.0122 - mae: 6.8404e-04 - categorical_accuracy: 0.9964 - val_loss: 0.0225 - val_mae: 9.8776e-04 - val_categorical_accuracy: 0.9937\nEpoch 7/10\n525/525 [==============================] - 24s 45ms/step - loss: 0.0102 - mae: 5.7138e-04 - categorical_accuracy: 0.9970 - val_loss: 0.0231 - val_mae: 9.4495e-04 - val_categorical_accuracy: 0.9937\nEpoch 8/10\n525/525 [==============================] - 23s 45ms/step - loss: 0.0089 - mae: 4.9820e-04 - categorical_accuracy: 0.9974 - val_loss: 0.0241 - val_mae: 9.2711e-04 - val_categorical_accuracy: 0.9936\nEpoch 9/10\n525/525 [==============================] - 23s 45ms/step - loss: 0.0078 - mae: 4.3821e-04 - categorical_accuracy: 0.9977 - val_loss: 0.0263 - val_mae: 8.9791e-04 - val_categorical_accuracy: 0.9936\nEpoch 10/10\n525/525 [==============================] - 24s 45ms/step - loss: 0.0067 - mae: 3.7986e-04 - categorical_accuracy: 0.9980 - val_loss: 0.0264 - val_mae: 8.9597e-04 - val_categorical_accuracy: 0.9935\n",
          "output_type": "stream"
        }
      ]
    },
    {
      "cell_type": "markdown",
      "metadata": {
        "id": "SCDySZSBzXFf"
      },
      "source": [
        "## Saving Model"
      ]
    },
    {
      "cell_type": "code",
      "metadata": {
        "execution": {
          "iopub.status.busy": "2021-09-09T06:39:05.739136Z",
          "iopub.execute_input": "2021-09-09T06:39:05.739462Z",
          "iopub.status.idle": "2021-09-09T06:39:05.842363Z",
          "shell.execute_reply.started": "2021-09-09T06:39:05.739432Z",
          "shell.execute_reply": "2021-09-09T06:39:05.841338Z"
        },
        "trusted": true,
        "id": "NYhQDBN2zXFh"
      },
      "source": [
        "model.save('ner_model.h5')"
      ],
      "execution_count": null,
      "outputs": []
    },
    {
      "cell_type": "markdown",
      "metadata": {
        "id": "PqRpgqA3zXFi"
      },
      "source": [
        "## Loading saved model"
      ]
    },
    {
      "cell_type": "code",
      "metadata": {
        "id": "-U8yVcrRzXFj"
      },
      "source": [
        "from keras.models import load_model\n",
        "model = load_model('ner_model.h5')"
      ],
      "execution_count": null,
      "outputs": []
    },
    {
      "cell_type": "markdown",
      "metadata": {
        "id": "lhqddG4-zXFl"
      },
      "source": [
        "## Evaluating predictions using test set"
      ]
    },
    {
      "cell_type": "code",
      "metadata": {
        "id": "wXFvxMp4eFJb",
        "execution": {
          "iopub.status.busy": "2021-09-09T06:39:11.377598Z",
          "iopub.execute_input": "2021-09-09T06:39:11.377940Z",
          "iopub.status.idle": "2021-09-09T06:39:13.639404Z",
          "shell.execute_reply.started": "2021-09-09T06:39:11.377909Z",
          "shell.execute_reply": "2021-09-09T06:39:13.638486Z"
        },
        "trusted": true
      },
      "source": [
        "y_pred = model.predict(X_test) "
      ],
      "execution_count": null,
      "outputs": []
    },
    {
      "cell_type": "code",
      "metadata": {
        "id": "hbMtXdMyeM8q",
        "execution": {
          "iopub.status.busy": "2021-09-09T06:39:23.370587Z",
          "iopub.execute_input": "2021-09-09T06:39:23.370930Z",
          "iopub.status.idle": "2021-09-09T06:39:23.378266Z",
          "shell.execute_reply.started": "2021-09-09T06:39:23.370898Z",
          "shell.execute_reply": "2021-09-09T06:39:23.377253Z"
        },
        "trusted": true
      },
      "source": [
        "def evaluate_prediction(y_pred, y_test, pad):\n",
        "    outputs = np.argmax(y_pred, axis=2)\n",
        "    labels = np.argmax(y_test, axis=2)\n",
        "    mask = labels != pad\n",
        "    accuracy = np.sum(outputs == labels) / float(np.sum(mask))\n",
        "    return accuracy"
      ],
      "execution_count": null,
      "outputs": []
    },
    {
      "cell_type": "code",
      "metadata": {
        "execution": {
          "iopub.status.busy": "2021-09-09T07:04:10.975594Z",
          "iopub.execute_input": "2021-09-09T07:04:10.975927Z",
          "iopub.status.idle": "2021-09-09T07:04:11.009613Z",
          "shell.execute_reply.started": "2021-09-09T07:04:10.975898Z",
          "shell.execute_reply": "2021-09-09T07:04:11.008607Z"
        },
        "trusted": true,
        "id": "FMQagTDLzXFp",
        "outputId": "50f707aa-ed74-4a44-f1c0-867e6e26ca4e"
      },
      "source": [
        "acc = evaluate_prediction(y_pred, y_test, vocab[\"<PAD>\"])\n",
        "print('Accuracy on test set:', acc)"
      ],
      "execution_count": null,
      "outputs": [
        {
          "name": "stdout",
          "text": "Accuracy on test set: 0.9936967946490618\n",
          "output_type": "stream"
        }
      ]
    },
    {
      "cell_type": "markdown",
      "metadata": {
        "id": "7LH2xwuRzXFu"
      },
      "source": [
        "## Prediction on custom input"
      ]
    },
    {
      "cell_type": "code",
      "metadata": {
        "id": "4przRd-yZMYG",
        "execution": {
          "iopub.status.busy": "2021-09-09T06:52:44.714506Z",
          "iopub.execute_input": "2021-09-09T06:52:44.714896Z",
          "iopub.status.idle": "2021-09-09T06:52:44.722376Z",
          "shell.execute_reply.started": "2021-09-09T06:52:44.714860Z",
          "shell.execute_reply": "2021-09-09T06:52:44.721565Z"
        },
        "trusted": true
      },
      "source": [
        "def predict(sentence, model, vocab, tag_map):\n",
        "    s = [vocab[token] if token in vocab else vocab['<UNK>'] for token in sentence.split(' ')]\n",
        "    len_s = len(s)\n",
        "    if len_s<128:\n",
        "        padding = [vocab[\"<PAD>\"]]*(128-len_s)\n",
        "        s = s + padding\n",
        "    else:\n",
        "        s = s[:128]\n",
        "    batch_data = np.ones((1, len(s)))\n",
        "    batch_data[0][:] = s\n",
        "    sentence = np.array(batch_data).astype(int)\n",
        "    output = model(sentence)\n",
        "    outputs = np.argmax(output, axis=2)\n",
        "    labels = list(tag_map.keys())\n",
        "    pred = []\n",
        "    for i in range(len(outputs[0])):\n",
        "        idx = outputs[0][i] \n",
        "        pred_label = labels[idx]\n",
        "        pred.append(pred_label)\n",
        "    return pred"
      ],
      "execution_count": null,
      "outputs": []
    },
    {
      "cell_type": "code",
      "metadata": {
        "id": "RDT1KSrxZxyd",
        "execution": {
          "iopub.status.busy": "2021-09-09T06:57:12.023530Z",
          "iopub.execute_input": "2021-09-09T06:57:12.023880Z",
          "iopub.status.idle": "2021-09-09T06:57:12.053261Z",
          "shell.execute_reply.started": "2021-09-09T06:57:12.023848Z",
          "shell.execute_reply": "2021-09-09T06:57:12.052506Z"
        },
        "trusted": true,
        "outputId": "9d382ae7-e35a-4efe-9470-eebbac691a1c"
      },
      "source": [
        "sentence = \"Google LLC is an American multinational technology \\\n",
        "company that specializes in Internet-related services and products, \\\n",
        "which include online advertising technologies,\\\n",
        "a search engine, cloud computing, software, and hardware.\"\n",
        "predictions = predict(sentence, model, vocab, tags_map)\n",
        "for x,y in zip(sentence.split(' '), predictions):\n",
        "    if y != 'O':\n",
        "        print(x,y)"
      ],
      "execution_count": null,
      "outputs": [
        {
          "name": "stdout",
          "text": "Google B-org\nLLC I-org\nAmerican B-gpe\nproducts, B-org\ntechnologies,a B-org\nsoftware, I-org\n",
          "output_type": "stream"
        }
      ]
    }
  ]
}